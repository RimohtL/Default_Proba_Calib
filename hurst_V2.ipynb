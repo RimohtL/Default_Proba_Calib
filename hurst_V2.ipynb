{
 "cells": [
  {
   "cell_type": "markdown",
   "metadata": {},
   "source": [
    "## Calcul du Hurst par régression"
   ]
  },
  {
   "cell_type": "code",
   "execution_count": 28,
   "metadata": {},
   "outputs": [],
   "source": [
    "import numpy as np\n",
    "from scipy import optimize\n",
    "import pandas as pd\n",
    "from scipy.stats import norm\n",
    "import warnings \n",
    "import plotly.graph_objects as go\n",
    "from plotly.subplots import make_subplots\n",
    "import pandas as pd\n"
   ]
  },
  {
   "cell_type": "code",
   "execution_count": 3,
   "metadata": {},
   "outputs": [],
   "source": [
    "file = \"Data issuers.xlsx\"\n",
    "market_cap = pd.read_excel(file, sheet_name=\"Mod Market Cap\")\n",
    "market_cap = market_cap.set_index(\"Dates\").loc['2019-10-28':'2020-10-13']\n",
    "debt = pd.read_excel(file, sheet_name=\"Gross Debt\", nrows=1)"
   ]
  },
  {
   "cell_type": "code",
   "execution_count": 26,
   "metadata": {},
   "outputs": [],
   "source": [
    "# Définition de la fonction genhurst avec les arguments S (série temporelle) et q (ordre)\n",
    "def genhurst(S, q):\n",
    "\n",
    "    # Obtient la longueur de la série temporelle\n",
    "    L = len(S)\n",
    "\n",
    "    # Avertissement si la série temporelle est très courte (moins de 100 points)\n",
    "    if L < 100:\n",
    "        warnings.warn('Data series very short!')\n",
    "\n",
    "    # Initialisation d'un tableau H pour stocker les résultats du coefficient de Hurst\n",
    "    H = np.zeros((len(range(5, 20)), 1))  # Crée un tableau de zéros de forme (15, 1)\n",
    "    k = 0  # Initialise un compteur\n",
    "\n",
    "    # Boucle sur différentes fenêtres de temps (Tmax)\n",
    "    for Tmax in range(5, 20):\n",
    "\n",
    "        # Génère une séquence de nombres de 1 à Tmax\n",
    "        x = np.arange(1, Tmax + 1, 1)\n",
    "\n",
    "        # Initialise un tableau mcord pour stocker les résultats locaux du coefficient de Hurst\n",
    "        mcord = np.zeros((Tmax, 1))  # Crée un tableau de zéros de forme (Tmax, 1)\n",
    "\n",
    "        # Boucle à travers les décalages temporels (tt) dans la fenêtre actuelle\n",
    "        for tt in range(1, Tmax + 1):\n",
    "\n",
    "            # Calcule les différences et les valeurs retardées\n",
    "            dV = S[np.arange(tt, L, tt)] - S[np.arange(tt, L, tt) - tt]\n",
    "            VV = S[np.arange(tt, L + tt, tt) - tt]\n",
    "            N = len(dV) + 1\n",
    "            X = np.arange(1, N + 1, dtype=np.float64)\n",
    "            Y = VV\n",
    "\n",
    "            # Calcul des coefficients pour ajuster une droite\n",
    "            mx = np.sum(X) / N\n",
    "            SSxx = np.sum(X**2) - N * mx**2\n",
    "            my = np.sum(Y) / N\n",
    "            SSxy = np.sum(np.multiply(X, Y)) - N * mx * my\n",
    "            cc1 = SSxy / SSxx\n",
    "            cc2 = my - cc1 * mx\n",
    "            ddVd = dV - cc1\n",
    "            VVVd = VV - np.multiply(cc1, np.arange(1, N + 1, dtype=np.float64)) - cc2\n",
    "\n",
    "            # Calcul du coefficient de Hurst local\n",
    "            mcord[tt - 1] = np.mean(np.abs(ddVd)**q) / np.mean(np.abs(VVVd)**q)\n",
    "\n",
    "        # Régression linéaire sur le logarithme des échelles\n",
    "        mx = np.mean(np.log10(x))\n",
    "        SSxx = np.sum(np.log10(x)**2) - Tmax * mx**2\n",
    "        my = np.mean(np.log10(mcord))\n",
    "        SSxy = np.sum(np.multiply(np.log10(x), np.transpose(np.log10(mcord)))) - Tmax * mx * my\n",
    "\n",
    "        # Stocke le résultat du coefficient de Hurst dans le tableau H\n",
    "        H[k] = SSxy / SSxx\n",
    "        k = k + 1\n",
    "\n",
    "    # Calcule la moyenne des coefficients de Hurst sur toutes les fenêtres de temps et divise par q\n",
    "    mH = np.mean(H) / q\n",
    "\n",
    "    return mH  # Retourne le coefficient de Hurst moyen divisé par l'ordre q\n",
    "\n",
    "\n",
    "def affichage_coef_hurst(col_name, market_cap_data):\n",
    "    # Extrait les données de la colonne spécifiée\n",
    "    market_cap_array = market_cap_data[col_name].to_numpy()\n",
    "\n",
    "    # Initialise une liste pour stocker les résultats du coefficient de Hurst pour chaque mois\n",
    "    hurst_coefficients = []\n",
    "\n",
    "    # Loop à travers chaque mois\n",
    "    for i in range(0, len(market_cap_array), 1):\n",
    "        # Extrait la market cap pour le mois actuel\n",
    "        market_cap_month = market_cap_array[:i + 1]\n",
    "\n",
    "        # Calcule le coefficient de Hurst en utilisant la fonction genhurst\n",
    "        hurst_coefficient = genhurst(market_cap_month, q=2)  # Vous pouvez ajuster la valeur de q si nécessaire\n",
    "\n",
    "        # Stocke le résultat dans la liste\n",
    "        hurst_coefficients.append(hurst_coefficient)\n",
    "\n",
    "    # Crée un dataframe pour Plotly Express\n",
    "    plot_df = pd.DataFrame({\n",
    "                            'Hurst Coefficient': hurst_coefficients,\n",
    "                            col_name: market_cap_array[:len(hurst_coefficients)]})\n",
    "\n",
    "    # Crée un subplot avec deux axes Y\n",
    "    fig = make_subplots(specs=[[{\"secondary_y\": True}]])\n",
    "    \n",
    "    # Ajoute la première ligne avec l'axe Y principal\n",
    "    fig.add_trace(go.Scatter(x=plot_df.index, y=plot_df[col_name], mode='lines', name=col_name), secondary_y=False)\n",
    "    \n",
    "    # Ajoute la deuxième ligne avec l'axe Y secondaire\n",
    "    fig.add_trace(go.Scatter(x=plot_df.index, y=plot_df['Hurst Coefficient'], mode='lines', name='Hurst Coefficient'), secondary_y=True)\n",
    "\n",
    "    # Met à jour les étiquettes et le titre\n",
    "    fig.update_layout(title_text=f\"{col_name} and Hurst Coefficient over Time\")\n",
    "    fig.update_xaxes(title_text='Time')\n",
    "    fig.update_yaxes(title_text=col_name, secondary_y=False)\n",
    "    fig.update_yaxes(title_text='Hurst Coefficient', secondary_y=True)\n",
    "\n",
    "    # Affiche le graphique\n",
    "    fig.show()\n"
   ]
  },
  {
   "cell_type": "code",
   "execution_count": 27,
   "metadata": {},
   "outputs": [
    {
     "name": "stderr",
     "output_type": "stream",
     "text": [
      "C:\\Users\\louis\\AppData\\Local\\Temp\\ipykernel_11476\\1022306552.py:12: UserWarning:\n",
      "\n",
      "Data series very short!\n",
      "\n",
      "C:\\Users\\louis\\AppData\\Local\\Temp\\ipykernel_11476\\1022306552.py:42: RuntimeWarning:\n",
      "\n",
      "invalid value encountered in scalar divide\n",
      "\n",
      "c:\\Users\\louis\\anaconda3\\Lib\\site-packages\\numpy\\core\\fromnumeric.py:3464: RuntimeWarning:\n",
      "\n",
      "Mean of empty slice.\n",
      "\n",
      "c:\\Users\\louis\\anaconda3\\Lib\\site-packages\\numpy\\core\\_methods.py:192: RuntimeWarning:\n",
      "\n",
      "invalid value encountered in scalar divide\n",
      "\n",
      "C:\\Users\\louis\\AppData\\Local\\Temp\\ipykernel_11476\\1022306552.py:48: RuntimeWarning:\n",
      "\n",
      "invalid value encountered in scalar divide\n",
      "\n"
     ]
    },
    {
     "data": {
      "application/vnd.plotly.v1+json": {
       "config": {
        "plotlyServerURL": "https://plot.ly"
       },
       "data": [
        {
         "mode": "lines",
         "name": "FGR FP Equity",
         "type": "scatter",
         "x": [
          0,
          1,
          2,
          3,
          4,
          5,
          6,
          7,
          8,
          9,
          10,
          11,
          12,
          13,
          14,
          15,
          16,
          17,
          18,
          19,
          20,
          21,
          22,
          23,
          24,
          25,
          26,
          27,
          28,
          29,
          30,
          31,
          32,
          33,
          34,
          35,
          36,
          37,
          38,
          39,
          40,
          41,
          42,
          43,
          44,
          45,
          46,
          47,
          48,
          49,
          50,
          51,
          52,
          53,
          54,
          55,
          56,
          57,
          58,
          59,
          60,
          61,
          62,
          63,
          64,
          65,
          66,
          67,
          68,
          69,
          70,
          71,
          72,
          73,
          74,
          75,
          76,
          77,
          78,
          79,
          80,
          81,
          82,
          83,
          84,
          85,
          86,
          87,
          88,
          89,
          90,
          91,
          92,
          93,
          94,
          95,
          96,
          97,
          98,
          99,
          100,
          101,
          102,
          103,
          104,
          105,
          106,
          107,
          108,
          109,
          110,
          111,
          112,
          113,
          114,
          115,
          116,
          117,
          118,
          119,
          120,
          121,
          122,
          123,
          124,
          125,
          126,
          127,
          128,
          129,
          130,
          131,
          132,
          133,
          134,
          135,
          136,
          137,
          138,
          139,
          140,
          141,
          142,
          143,
          144,
          145,
          146,
          147,
          148,
          149,
          150,
          151,
          152,
          153,
          154,
          155,
          156,
          157,
          158,
          159,
          160,
          161,
          162,
          163,
          164,
          165,
          166,
          167,
          168,
          169,
          170,
          171,
          172,
          173,
          174,
          175,
          176,
          177,
          178,
          179,
          180,
          181,
          182,
          183,
          184,
          185,
          186,
          187,
          188,
          189,
          190,
          191,
          192,
          193,
          194,
          195,
          196,
          197,
          198,
          199,
          200,
          201,
          202,
          203,
          204,
          205,
          206,
          207,
          208,
          209,
          210,
          211,
          212,
          213,
          214,
          215,
          216,
          217,
          218,
          219,
          220,
          221,
          222,
          223,
          224,
          225,
          226,
          227,
          228,
          229,
          230,
          231,
          232,
          233,
          234,
          235,
          236,
          237,
          238,
          239,
          240,
          241,
          242,
          243,
          244,
          245,
          246,
          247,
          248,
          249,
          250,
          251
         ],
         "xaxis": "x",
         "y": [
          9294.32,
          9423.68,
          9435.44,
          9439.36,
          9590.28,
          9613.8,
          9531.48,
          9543.24,
          9653,
          9562.84,
          9715.72,
          9745.12,
          9629.48,
          9672.6,
          9711.8,
          9819.6,
          9873.5,
          9725.52,
          9809.8,
          9766.68,
          9849,
          9917.6,
          9814.7,
          9804.9,
          9711.8,
          9527.56,
          9509.92,
          9604,
          9653,
          9723.56,
          9721.6,
          9784.32,
          9937.2,
          9883.3,
          9888.2,
          9966.6,
          9956.8,
          9937.2,
          9956.8,
          9956.8,
          10005.8,
          10000.9,
          10000.9,
          10000.9,
          10040.1,
          10005.8,
          9996,
          9996,
          10118.5,
          10059.7,
          9956.8,
          10015.6,
          10172.4,
          10133.2,
          10250.8,
          10162.6,
          10152.8,
          10211.6,
          10236.1,
          10245.9,
          10304.7,
          10324.3,
          10221.4,
          10172.4,
          10275.3,
          10074.4,
          10231.2,
          10363.5,
          10280.2,
          10265.5,
          10383.1,
          10397.8,
          10490.9,
          10388,
          10510.5,
          10525.2,
          10829,
          10809.4,
          10780,
          10829,
          10794.7,
          10878,
          10878,
          10784.9,
          10784.9,
          10490.9,
          10383.1,
          10324.3,
          10049.9,
          9449.16,
          9441.32,
          9496.2,
          9609.88,
          9409.96,
          8925.84,
          8282.96,
          7996.8,
          7816.48,
          6632.64,
          6566,
          5785.92,
          5703.6,
          5082.28,
          5390,
          5915.28,
          5374.32,
          5917.24,
          6513.08,
          7130.48,
          6822.76,
          6468,
          6321,
          6032.88,
          6152.44,
          6091.68,
          6664,
          6965.84,
          6997.2,
          7218.68,
          7218.68,
          7218.68,
          7193.2,
          6769.84,
          6873.72,
          7228.48,
          7177.52,
          6869.8,
          7071.68,
          6999.16,
          6877.64,
          7310.8,
          7232.4,
          7438.2,
          7320.6,
          7320.6,
          7052.08,
          7257.88,
          7173.6,
          7181.44,
          7608.72,
          7377.44,
          7252,
          7105,
          7052.08,
          7081.48,
          7716.52,
          7484.0856,
          7647.4327,
          7633.4884,
          7579.7034,
          7936.2781,
          8127.5137,
          8294.8449,
          8217.1554,
          8167.3545,
          8251.0201,
          8460.184,
          8764.9658,
          8739.0693,
          8709.1887,
          8707.1967,
          8440.2637,
          8326.7175,
          7968.1507,
          8053.8083,
          8101.6172,
          8324.7255,
          8368.5503,
          8350.622,
          8175.3226,
          8127.5137,
          8173.3306,
          7918.3498,
          8081.6969,
          8025.9198,
          8139.466,
          8107.5934,
          7990.0631,
          8284.8847,
          8191.2589,
          8253.0121,
          8107.5934,
          7870.5409,
          7770.939,
          7904.4055,
          8004.0074,
          7880.5011,
          8053.8083,
          8121.5376,
          7962.1746,
          8011.9755,
          7968.1507,
          7968.1507,
          7906.3976,
          7749.0266,
          7659.3849,
          7687.2734,
          7778.9071,
          7549.8228,
          7370.5394,
          7543.8467,
          7721.138,
          7798.8275,
          7772.931,
          7747.0345,
          7902.4135,
          8183.2908,
          8119.5456,
          8005.9994,
          7890.4613,
          7842.6523,
          7768.947,
          7856.5966,
          7729.1062,
          7772.931,
          8095.6411,
          8101.6172,
          8207.1952,
          7948.2303,
          7948.2303,
          7691.2575,
          7591.6556,
          7764.9629,
          7860.5807,
          7798.8275,
          8089.665,
          7902.4135,
          7988.0711,
          7794.8434,
          7647.4327,
          7727.1142,
          7637.4725,
          7601.6158,
          7515.9582,
          7470.1413,
          7121.5347,
          7029.901,
          7002.0124,
          6906.3946,
          6864.5618,
          7087.6701,
          7071.7338,
          6954.2035,
          6840.6574,
          6996.0363,
          7183.2879,
          7342.6509,
          7350.619,
          7366.5553,
          7233.0888,
          7290.8579,
          7063.7656
         ],
         "yaxis": "y"
        },
        {
         "mode": "lines",
         "name": "Hurst Coefficient",
         "type": "scatter",
         "x": [
          0,
          1,
          2,
          3,
          4,
          5,
          6,
          7,
          8,
          9,
          10,
          11,
          12,
          13,
          14,
          15,
          16,
          17,
          18,
          19,
          20,
          21,
          22,
          23,
          24,
          25,
          26,
          27,
          28,
          29,
          30,
          31,
          32,
          33,
          34,
          35,
          36,
          37,
          38,
          39,
          40,
          41,
          42,
          43,
          44,
          45,
          46,
          47,
          48,
          49,
          50,
          51,
          52,
          53,
          54,
          55,
          56,
          57,
          58,
          59,
          60,
          61,
          62,
          63,
          64,
          65,
          66,
          67,
          68,
          69,
          70,
          71,
          72,
          73,
          74,
          75,
          76,
          77,
          78,
          79,
          80,
          81,
          82,
          83,
          84,
          85,
          86,
          87,
          88,
          89,
          90,
          91,
          92,
          93,
          94,
          95,
          96,
          97,
          98,
          99,
          100,
          101,
          102,
          103,
          104,
          105,
          106,
          107,
          108,
          109,
          110,
          111,
          112,
          113,
          114,
          115,
          116,
          117,
          118,
          119,
          120,
          121,
          122,
          123,
          124,
          125,
          126,
          127,
          128,
          129,
          130,
          131,
          132,
          133,
          134,
          135,
          136,
          137,
          138,
          139,
          140,
          141,
          142,
          143,
          144,
          145,
          146,
          147,
          148,
          149,
          150,
          151,
          152,
          153,
          154,
          155,
          156,
          157,
          158,
          159,
          160,
          161,
          162,
          163,
          164,
          165,
          166,
          167,
          168,
          169,
          170,
          171,
          172,
          173,
          174,
          175,
          176,
          177,
          178,
          179,
          180,
          181,
          182,
          183,
          184,
          185,
          186,
          187,
          188,
          189,
          190,
          191,
          192,
          193,
          194,
          195,
          196,
          197,
          198,
          199,
          200,
          201,
          202,
          203,
          204,
          205,
          206,
          207,
          208,
          209,
          210,
          211,
          212,
          213,
          214,
          215,
          216,
          217,
          218,
          219,
          220,
          221,
          222,
          223,
          224,
          225,
          226,
          227,
          228,
          229,
          230,
          231,
          232,
          233,
          234,
          235,
          236,
          237,
          238,
          239,
          240,
          241,
          242,
          243,
          244,
          245,
          246,
          247,
          248,
          249,
          250,
          251
         ],
         "xaxis": "x",
         "y": [
          null,
          null,
          null,
          null,
          null,
          null,
          null,
          null,
          null,
          null,
          null,
          null,
          null,
          null,
          null,
          null,
          null,
          null,
          null,
          null,
          null,
          null,
          null,
          null,
          null,
          null,
          null,
          null,
          null,
          null,
          null,
          null,
          null,
          null,
          null,
          null,
          null,
          null,
          0.40179515004080074,
          0.4018591061531171,
          0.4020374974369908,
          0.40241930915162377,
          0.4019835877471732,
          0.4020221556595577,
          0.3995845442739403,
          0.39704602109254866,
          0.3961297067654881,
          0.39659017261085483,
          0.382512802552645,
          0.3785803217576488,
          0.36780229283967325,
          0.3621341707789243,
          0.34320375051855795,
          0.3423222965765104,
          0.3370940627829052,
          0.3324189785404956,
          0.3257898228232892,
          0.3239126979297511,
          0.3245110870782074,
          0.3252700646973922,
          0.325796462772762,
          0.3281884913326108,
          0.32035837435373804,
          0.31642837405096136,
          0.31075511451576215,
          0.30383476833128903,
          0.29436953671381966,
          0.2908719057436179,
          0.28793053729983975,
          0.2889670064580049,
          0.2876379873071473,
          0.288489808812982,
          0.2945649137218556,
          0.29052451063756685,
          0.2924874887882651,
          0.2944252844104232,
          0.31103156892792966,
          0.32291833513141194,
          0.3412755034718706,
          0.3540867846322104,
          0.3517247224679798,
          0.3603774895463855,
          0.37623231459473977,
          0.3759849485919796,
          0.3682178624835103,
          0.35430153236660444,
          0.3442643157815439,
          0.34607340433257056,
          0.3887260888635879,
          0.411801272884454,
          0.4775681369637887,
          0.5035635872314909,
          0.545254337541687,
          0.5803856114131886,
          0.6066169058539601,
          0.6058959090781522,
          0.6145558356972385,
          0.6507996736126184,
          0.6173350501079684,
          0.6355782634630496,
          0.6615169572763369,
          0.6944311602686931,
          0.7393584012143183,
          0.7581642008547573,
          0.7367432739148849,
          0.7186942822266859,
          0.7286338027608614,
          0.7234992533774212,
          0.6759809536646302,
          0.6769884015385964,
          0.6662414682964884,
          0.6708899356598597,
          0.6526292362595149,
          0.6559693851792423,
          0.6608649984413326,
          0.6533476473758809,
          0.6451472951078524,
          0.6405438983307864,
          0.6391798756261053,
          0.6444294770111244,
          0.6527406323632168,
          0.6536560409705334,
          0.6502572523331787,
          0.6505028499896911,
          0.6455521192183516,
          0.6455901881848601,
          0.6414205259111303,
          0.6404736393505107,
          0.6412472755264356,
          0.6413943526815425,
          0.6362861298787796,
          0.6362473216714484,
          0.6347028114647303,
          0.6357628682649799,
          0.6357496319094236,
          0.6343202154825573,
          0.6336285423381979,
          0.6335711515253888,
          0.6334436617491352,
          0.6296436509360744,
          0.6290278570703176,
          0.6288522611753121,
          0.6282282095083696,
          0.6279295914825394,
          0.627625334159993,
          0.6200519200996997,
          0.6181432636779852,
          0.6170026569353745,
          0.6174144249374371,
          0.6177171370171615,
          0.6159700953539574,
          0.6162455046360447,
          0.6195057570389756,
          0.6226193707306248,
          0.6247932972340631,
          0.6252473092097245,
          0.630235562931751,
          0.6306961968894316,
          0.634250363477551,
          0.6373055178639845,
          0.6367855083526412,
          0.6357127457168595,
          0.6350950443732989,
          0.6337047950638198,
          0.6343964328920847,
          0.633134841109644,
          0.6334957736123717,
          0.6345036167439434,
          0.6306133598962611,
          0.629865500394412,
          0.6292312077641065,
          0.628783810333592,
          0.6284656569493641,
          0.6285057453120206,
          0.6292204367610952,
          0.6283244205482842,
          0.6268439414387738,
          0.6274421663635602,
          0.6271903628028495,
          0.6277848757520001,
          0.6236098895289683,
          0.6239073547889593,
          0.6215533090102561,
          0.6214101111021819,
          0.6212339860641143,
          0.6211819425633737,
          0.6215803288862797,
          0.6202037348334215,
          0.620729569504668,
          0.6199835288509717,
          0.6197620063930981,
          0.6201451598038409,
          0.6194275396540873,
          0.6197284160114621,
          0.6195872609664145,
          0.6191270417305285,
          0.6188948605830361,
          0.6189527624359515,
          0.6183098086782773,
          0.6179209742544214,
          0.6175215997113325,
          0.6172035106550182,
          0.6170785662612566,
          0.6170707697894946,
          0.6171356810253875,
          0.6171253340540531,
          0.6156999110085842,
          0.6162049939224661,
          0.6158887315563231,
          0.6156058155597475,
          0.614319122825983,
          0.6145104992635055,
          0.6149811123665491,
          0.615139589546555,
          0.6155676853990122,
          0.6141725774575808,
          0.6119899711871015,
          0.6120330396477208,
          0.6117960838240144,
          0.6124067213247819,
          0.6108769927754897,
          0.6105641579313232,
          0.6104042118148223,
          0.6105410643720534,
          0.6099169502065531,
          0.6078038254737363,
          0.6079419886450732,
          0.6082225724449569,
          0.607621898341062,
          0.607508681941891,
          0.6074816700177125,
          0.6070471754906209,
          0.6070702712253403,
          0.6070828073336537,
          0.6073523178426927,
          0.6062359522804289,
          0.6050356925574824,
          0.6046474993674714,
          0.605562942477819,
          0.6055745310934826,
          0.6061315743106505,
          0.6061349406833352,
          0.6062816592301039,
          0.6064782599352433,
          0.6060573298405659,
          0.6057152912113242,
          0.6040939735239947,
          0.6040026978184305,
          0.6043100664317314,
          0.6041708383948033,
          0.6042332085152241,
          0.603592616657674
         ],
         "yaxis": "y2"
        }
       ],
       "layout": {
        "template": {
         "data": {
          "bar": [
           {
            "error_x": {
             "color": "#2a3f5f"
            },
            "error_y": {
             "color": "#2a3f5f"
            },
            "marker": {
             "line": {
              "color": "#E5ECF6",
              "width": 0.5
             },
             "pattern": {
              "fillmode": "overlay",
              "size": 10,
              "solidity": 0.2
             }
            },
            "type": "bar"
           }
          ],
          "barpolar": [
           {
            "marker": {
             "line": {
              "color": "#E5ECF6",
              "width": 0.5
             },
             "pattern": {
              "fillmode": "overlay",
              "size": 10,
              "solidity": 0.2
             }
            },
            "type": "barpolar"
           }
          ],
          "carpet": [
           {
            "aaxis": {
             "endlinecolor": "#2a3f5f",
             "gridcolor": "white",
             "linecolor": "white",
             "minorgridcolor": "white",
             "startlinecolor": "#2a3f5f"
            },
            "baxis": {
             "endlinecolor": "#2a3f5f",
             "gridcolor": "white",
             "linecolor": "white",
             "minorgridcolor": "white",
             "startlinecolor": "#2a3f5f"
            },
            "type": "carpet"
           }
          ],
          "choropleth": [
           {
            "colorbar": {
             "outlinewidth": 0,
             "ticks": ""
            },
            "type": "choropleth"
           }
          ],
          "contour": [
           {
            "colorbar": {
             "outlinewidth": 0,
             "ticks": ""
            },
            "colorscale": [
             [
              0,
              "#0d0887"
             ],
             [
              0.1111111111111111,
              "#46039f"
             ],
             [
              0.2222222222222222,
              "#7201a8"
             ],
             [
              0.3333333333333333,
              "#9c179e"
             ],
             [
              0.4444444444444444,
              "#bd3786"
             ],
             [
              0.5555555555555556,
              "#d8576b"
             ],
             [
              0.6666666666666666,
              "#ed7953"
             ],
             [
              0.7777777777777778,
              "#fb9f3a"
             ],
             [
              0.8888888888888888,
              "#fdca26"
             ],
             [
              1,
              "#f0f921"
             ]
            ],
            "type": "contour"
           }
          ],
          "contourcarpet": [
           {
            "colorbar": {
             "outlinewidth": 0,
             "ticks": ""
            },
            "type": "contourcarpet"
           }
          ],
          "heatmap": [
           {
            "colorbar": {
             "outlinewidth": 0,
             "ticks": ""
            },
            "colorscale": [
             [
              0,
              "#0d0887"
             ],
             [
              0.1111111111111111,
              "#46039f"
             ],
             [
              0.2222222222222222,
              "#7201a8"
             ],
             [
              0.3333333333333333,
              "#9c179e"
             ],
             [
              0.4444444444444444,
              "#bd3786"
             ],
             [
              0.5555555555555556,
              "#d8576b"
             ],
             [
              0.6666666666666666,
              "#ed7953"
             ],
             [
              0.7777777777777778,
              "#fb9f3a"
             ],
             [
              0.8888888888888888,
              "#fdca26"
             ],
             [
              1,
              "#f0f921"
             ]
            ],
            "type": "heatmap"
           }
          ],
          "heatmapgl": [
           {
            "colorbar": {
             "outlinewidth": 0,
             "ticks": ""
            },
            "colorscale": [
             [
              0,
              "#0d0887"
             ],
             [
              0.1111111111111111,
              "#46039f"
             ],
             [
              0.2222222222222222,
              "#7201a8"
             ],
             [
              0.3333333333333333,
              "#9c179e"
             ],
             [
              0.4444444444444444,
              "#bd3786"
             ],
             [
              0.5555555555555556,
              "#d8576b"
             ],
             [
              0.6666666666666666,
              "#ed7953"
             ],
             [
              0.7777777777777778,
              "#fb9f3a"
             ],
             [
              0.8888888888888888,
              "#fdca26"
             ],
             [
              1,
              "#f0f921"
             ]
            ],
            "type": "heatmapgl"
           }
          ],
          "histogram": [
           {
            "marker": {
             "pattern": {
              "fillmode": "overlay",
              "size": 10,
              "solidity": 0.2
             }
            },
            "type": "histogram"
           }
          ],
          "histogram2d": [
           {
            "colorbar": {
             "outlinewidth": 0,
             "ticks": ""
            },
            "colorscale": [
             [
              0,
              "#0d0887"
             ],
             [
              0.1111111111111111,
              "#46039f"
             ],
             [
              0.2222222222222222,
              "#7201a8"
             ],
             [
              0.3333333333333333,
              "#9c179e"
             ],
             [
              0.4444444444444444,
              "#bd3786"
             ],
             [
              0.5555555555555556,
              "#d8576b"
             ],
             [
              0.6666666666666666,
              "#ed7953"
             ],
             [
              0.7777777777777778,
              "#fb9f3a"
             ],
             [
              0.8888888888888888,
              "#fdca26"
             ],
             [
              1,
              "#f0f921"
             ]
            ],
            "type": "histogram2d"
           }
          ],
          "histogram2dcontour": [
           {
            "colorbar": {
             "outlinewidth": 0,
             "ticks": ""
            },
            "colorscale": [
             [
              0,
              "#0d0887"
             ],
             [
              0.1111111111111111,
              "#46039f"
             ],
             [
              0.2222222222222222,
              "#7201a8"
             ],
             [
              0.3333333333333333,
              "#9c179e"
             ],
             [
              0.4444444444444444,
              "#bd3786"
             ],
             [
              0.5555555555555556,
              "#d8576b"
             ],
             [
              0.6666666666666666,
              "#ed7953"
             ],
             [
              0.7777777777777778,
              "#fb9f3a"
             ],
             [
              0.8888888888888888,
              "#fdca26"
             ],
             [
              1,
              "#f0f921"
             ]
            ],
            "type": "histogram2dcontour"
           }
          ],
          "mesh3d": [
           {
            "colorbar": {
             "outlinewidth": 0,
             "ticks": ""
            },
            "type": "mesh3d"
           }
          ],
          "parcoords": [
           {
            "line": {
             "colorbar": {
              "outlinewidth": 0,
              "ticks": ""
             }
            },
            "type": "parcoords"
           }
          ],
          "pie": [
           {
            "automargin": true,
            "type": "pie"
           }
          ],
          "scatter": [
           {
            "fillpattern": {
             "fillmode": "overlay",
             "size": 10,
             "solidity": 0.2
            },
            "type": "scatter"
           }
          ],
          "scatter3d": [
           {
            "line": {
             "colorbar": {
              "outlinewidth": 0,
              "ticks": ""
             }
            },
            "marker": {
             "colorbar": {
              "outlinewidth": 0,
              "ticks": ""
             }
            },
            "type": "scatter3d"
           }
          ],
          "scattercarpet": [
           {
            "marker": {
             "colorbar": {
              "outlinewidth": 0,
              "ticks": ""
             }
            },
            "type": "scattercarpet"
           }
          ],
          "scattergeo": [
           {
            "marker": {
             "colorbar": {
              "outlinewidth": 0,
              "ticks": ""
             }
            },
            "type": "scattergeo"
           }
          ],
          "scattergl": [
           {
            "marker": {
             "colorbar": {
              "outlinewidth": 0,
              "ticks": ""
             }
            },
            "type": "scattergl"
           }
          ],
          "scattermapbox": [
           {
            "marker": {
             "colorbar": {
              "outlinewidth": 0,
              "ticks": ""
             }
            },
            "type": "scattermapbox"
           }
          ],
          "scatterpolar": [
           {
            "marker": {
             "colorbar": {
              "outlinewidth": 0,
              "ticks": ""
             }
            },
            "type": "scatterpolar"
           }
          ],
          "scatterpolargl": [
           {
            "marker": {
             "colorbar": {
              "outlinewidth": 0,
              "ticks": ""
             }
            },
            "type": "scatterpolargl"
           }
          ],
          "scatterternary": [
           {
            "marker": {
             "colorbar": {
              "outlinewidth": 0,
              "ticks": ""
             }
            },
            "type": "scatterternary"
           }
          ],
          "surface": [
           {
            "colorbar": {
             "outlinewidth": 0,
             "ticks": ""
            },
            "colorscale": [
             [
              0,
              "#0d0887"
             ],
             [
              0.1111111111111111,
              "#46039f"
             ],
             [
              0.2222222222222222,
              "#7201a8"
             ],
             [
              0.3333333333333333,
              "#9c179e"
             ],
             [
              0.4444444444444444,
              "#bd3786"
             ],
             [
              0.5555555555555556,
              "#d8576b"
             ],
             [
              0.6666666666666666,
              "#ed7953"
             ],
             [
              0.7777777777777778,
              "#fb9f3a"
             ],
             [
              0.8888888888888888,
              "#fdca26"
             ],
             [
              1,
              "#f0f921"
             ]
            ],
            "type": "surface"
           }
          ],
          "table": [
           {
            "cells": {
             "fill": {
              "color": "#EBF0F8"
             },
             "line": {
              "color": "white"
             }
            },
            "header": {
             "fill": {
              "color": "#C8D4E3"
             },
             "line": {
              "color": "white"
             }
            },
            "type": "table"
           }
          ]
         },
         "layout": {
          "annotationdefaults": {
           "arrowcolor": "#2a3f5f",
           "arrowhead": 0,
           "arrowwidth": 1
          },
          "autotypenumbers": "strict",
          "coloraxis": {
           "colorbar": {
            "outlinewidth": 0,
            "ticks": ""
           }
          },
          "colorscale": {
           "diverging": [
            [
             0,
             "#8e0152"
            ],
            [
             0.1,
             "#c51b7d"
            ],
            [
             0.2,
             "#de77ae"
            ],
            [
             0.3,
             "#f1b6da"
            ],
            [
             0.4,
             "#fde0ef"
            ],
            [
             0.5,
             "#f7f7f7"
            ],
            [
             0.6,
             "#e6f5d0"
            ],
            [
             0.7,
             "#b8e186"
            ],
            [
             0.8,
             "#7fbc41"
            ],
            [
             0.9,
             "#4d9221"
            ],
            [
             1,
             "#276419"
            ]
           ],
           "sequential": [
            [
             0,
             "#0d0887"
            ],
            [
             0.1111111111111111,
             "#46039f"
            ],
            [
             0.2222222222222222,
             "#7201a8"
            ],
            [
             0.3333333333333333,
             "#9c179e"
            ],
            [
             0.4444444444444444,
             "#bd3786"
            ],
            [
             0.5555555555555556,
             "#d8576b"
            ],
            [
             0.6666666666666666,
             "#ed7953"
            ],
            [
             0.7777777777777778,
             "#fb9f3a"
            ],
            [
             0.8888888888888888,
             "#fdca26"
            ],
            [
             1,
             "#f0f921"
            ]
           ],
           "sequentialminus": [
            [
             0,
             "#0d0887"
            ],
            [
             0.1111111111111111,
             "#46039f"
            ],
            [
             0.2222222222222222,
             "#7201a8"
            ],
            [
             0.3333333333333333,
             "#9c179e"
            ],
            [
             0.4444444444444444,
             "#bd3786"
            ],
            [
             0.5555555555555556,
             "#d8576b"
            ],
            [
             0.6666666666666666,
             "#ed7953"
            ],
            [
             0.7777777777777778,
             "#fb9f3a"
            ],
            [
             0.8888888888888888,
             "#fdca26"
            ],
            [
             1,
             "#f0f921"
            ]
           ]
          },
          "colorway": [
           "#636efa",
           "#EF553B",
           "#00cc96",
           "#ab63fa",
           "#FFA15A",
           "#19d3f3",
           "#FF6692",
           "#B6E880",
           "#FF97FF",
           "#FECB52"
          ],
          "font": {
           "color": "#2a3f5f"
          },
          "geo": {
           "bgcolor": "white",
           "lakecolor": "white",
           "landcolor": "#E5ECF6",
           "showlakes": true,
           "showland": true,
           "subunitcolor": "white"
          },
          "hoverlabel": {
           "align": "left"
          },
          "hovermode": "closest",
          "mapbox": {
           "style": "light"
          },
          "paper_bgcolor": "white",
          "plot_bgcolor": "#E5ECF6",
          "polar": {
           "angularaxis": {
            "gridcolor": "white",
            "linecolor": "white",
            "ticks": ""
           },
           "bgcolor": "#E5ECF6",
           "radialaxis": {
            "gridcolor": "white",
            "linecolor": "white",
            "ticks": ""
           }
          },
          "scene": {
           "xaxis": {
            "backgroundcolor": "#E5ECF6",
            "gridcolor": "white",
            "gridwidth": 2,
            "linecolor": "white",
            "showbackground": true,
            "ticks": "",
            "zerolinecolor": "white"
           },
           "yaxis": {
            "backgroundcolor": "#E5ECF6",
            "gridcolor": "white",
            "gridwidth": 2,
            "linecolor": "white",
            "showbackground": true,
            "ticks": "",
            "zerolinecolor": "white"
           },
           "zaxis": {
            "backgroundcolor": "#E5ECF6",
            "gridcolor": "white",
            "gridwidth": 2,
            "linecolor": "white",
            "showbackground": true,
            "ticks": "",
            "zerolinecolor": "white"
           }
          },
          "shapedefaults": {
           "line": {
            "color": "#2a3f5f"
           }
          },
          "ternary": {
           "aaxis": {
            "gridcolor": "white",
            "linecolor": "white",
            "ticks": ""
           },
           "baxis": {
            "gridcolor": "white",
            "linecolor": "white",
            "ticks": ""
           },
           "bgcolor": "#E5ECF6",
           "caxis": {
            "gridcolor": "white",
            "linecolor": "white",
            "ticks": ""
           }
          },
          "title": {
           "x": 0.05
          },
          "xaxis": {
           "automargin": true,
           "gridcolor": "white",
           "linecolor": "white",
           "ticks": "",
           "title": {
            "standoff": 15
           },
           "zerolinecolor": "white",
           "zerolinewidth": 2
          },
          "yaxis": {
           "automargin": true,
           "gridcolor": "white",
           "linecolor": "white",
           "ticks": "",
           "title": {
            "standoff": 15
           },
           "zerolinecolor": "white",
           "zerolinewidth": 2
          }
         }
        },
        "title": {
         "text": "FGR FP Equity and Hurst Coefficient over Time"
        },
        "xaxis": {
         "anchor": "y",
         "domain": [
          0,
          0.94
         ],
         "title": {
          "text": "Time"
         }
        },
        "yaxis": {
         "anchor": "x",
         "domain": [
          0,
          1
         ],
         "title": {
          "text": "FGR FP Equity"
         }
        },
        "yaxis2": {
         "anchor": "x",
         "overlaying": "y",
         "side": "right",
         "title": {
          "text": "Hurst Coefficient"
         }
        }
       }
      }
     },
     "metadata": {},
     "output_type": "display_data"
    },
    {
     "name": "stdout",
     "output_type": "stream",
     "text": [
      "[None]\n"
     ]
    }
   ],
   "source": [
    "# Créer un nouveau dataframe pour stocker les résultats\n",
    "result_list = []\n",
    "\n",
    "# Appel de la fonction avec le nom de la colonne et stocke le résultat dans la liste\n",
    "result_list.append(affichage_coef_hurst('FGR FP Equity', market_cap))\n",
    "\n",
    "# Affiche la liste des résultats\n",
    "print(result_list)\n"
   ]
  },
  {
   "cell_type": "markdown",
   "metadata": {},
   "source": [
    "## Calcul du Hurst Par régression "
   ]
  },
  {
   "cell_type": "code",
   "execution_count": 46,
   "metadata": {},
   "outputs": [],
   "source": [
    "import numpy as np\n",
    "from numpy import sqrt, std, subtract, polyfit, log\n",
    "\n",
    "def hurst(ts):\n",
    "    \"\"\"Returns the Hurst Exponent of the time series vector ts\"\"\"\n",
    "    if len(ts)< 100 : \n",
    "        return np.nan\n",
    "    # Create the range of lag values\n",
    "    lags = range(2, 100)\n",
    "\n",
    "    # Calculate the array of the variances of the lagged differences\n",
    "    tau = [sqrt(std(subtract(ts[lag:], ts[:-lag]))) for lag in lags]\n",
    "\n",
    "    # Use a linear fit to estimate the Hurst Exponent\n",
    "    poly = polyfit(log(lags), log(tau), 1)\n",
    "\n",
    "    # Return the Hurst exponent from the polyfit output\n",
    "    return poly[0] * 2.0\n",
    "\n",
    "\n",
    "def affichage_coef_hurst_reg(col_name, market_cap_data):\n",
    "    # Extrait les données de la colonne spécifiée\n",
    "    market_cap_array = market_cap_data[col_name].to_numpy()\n",
    "\n",
    "    # Initialise une liste pour stocker les résultats du coefficient de Hurst pour chaque mois\n",
    "    hurst_coefficients = []\n",
    "\n",
    "    # Loop à travers chaque mois\n",
    "    for i in range(0, len(market_cap_array), 1):\n",
    "        # Extrait la market cap pour le mois actuel\n",
    "        market_cap_month = market_cap_array[:i + 1]\n",
    "\n",
    "        # Calcule le coefficient de Hurst en utilisant la fonction genhurst\n",
    "        hurst_coefficient = hurst(market_cap_month)  # Vous pouvez ajuster la valeur de q si nécessaire\n",
    "\n",
    "        # Stocke le résultat dans la liste\n",
    "        hurst_coefficients.append(hurst_coefficient)\n",
    "\n",
    "    # Crée un dataframe pour Plotly Express\n",
    "    plot_df = pd.DataFrame({\n",
    "                            'Hurst Coefficient': hurst_coefficients,\n",
    "                            col_name: market_cap_array[:len(hurst_coefficients)]})\n",
    "\n",
    "    # Crée un subplot avec deux axes Y\n",
    "    fig = make_subplots(specs=[[{\"secondary_y\": True}]])\n",
    "    \n",
    "    # Ajoute la première ligne avec l'axe Y principal\n",
    "    fig.add_trace(go.Scatter(x=plot_df.index, y=plot_df[col_name], mode='lines', name=col_name), secondary_y=False)\n",
    "    \n",
    "    # Ajoute la deuxième ligne avec l'axe Y secondaire\n",
    "    fig.add_trace(go.Scatter(x=plot_df.index, y=plot_df['Hurst Coefficient'], mode='lines', name='Hurst Coefficient'), secondary_y=True)\n",
    "\n",
    "    # Met à jour les étiquettes et le titre\n",
    "    fig.update_layout(title_text=f\"{col_name} and Hurst Coefficient over Time\")\n",
    "    fig.update_xaxes(title_text='Time')\n",
    "    fig.update_yaxes(title_text=col_name, secondary_y=False)\n",
    "    fig.update_yaxes(title_text='Hurst Coefficient', secondary_y=True)\n",
    "\n",
    "    # Affiche le graphique\n",
    "    fig.show()"
   ]
  },
  {
   "cell_type": "code",
   "execution_count": 47,
   "metadata": {},
   "outputs": [
    {
     "name": "stderr",
     "output_type": "stream",
     "text": [
      "C:\\Users\\louis\\AppData\\Local\\Temp\\ipykernel_11476\\3013531256.py:15: RuntimeWarning:\n",
      "\n",
      "divide by zero encountered in log\n",
      "\n"
     ]
    },
    {
     "data": {
      "application/vnd.plotly.v1+json": {
       "config": {
        "plotlyServerURL": "https://plot.ly"
       },
       "data": [
        {
         "mode": "lines",
         "name": "FGR FP Equity",
         "type": "scatter",
         "x": [
          0,
          1,
          2,
          3,
          4,
          5,
          6,
          7,
          8,
          9,
          10,
          11,
          12,
          13,
          14,
          15,
          16,
          17,
          18,
          19,
          20,
          21,
          22,
          23,
          24,
          25,
          26,
          27,
          28,
          29,
          30,
          31,
          32,
          33,
          34,
          35,
          36,
          37,
          38,
          39,
          40,
          41,
          42,
          43,
          44,
          45,
          46,
          47,
          48,
          49,
          50,
          51,
          52,
          53,
          54,
          55,
          56,
          57,
          58,
          59,
          60,
          61,
          62,
          63,
          64,
          65,
          66,
          67,
          68,
          69,
          70,
          71,
          72,
          73,
          74,
          75,
          76,
          77,
          78,
          79,
          80,
          81,
          82,
          83,
          84,
          85,
          86,
          87,
          88,
          89,
          90,
          91,
          92,
          93,
          94,
          95,
          96,
          97,
          98,
          99,
          100,
          101,
          102,
          103,
          104,
          105,
          106,
          107,
          108,
          109,
          110,
          111,
          112,
          113,
          114,
          115,
          116,
          117,
          118,
          119,
          120,
          121,
          122,
          123,
          124,
          125,
          126,
          127,
          128,
          129,
          130,
          131,
          132,
          133,
          134,
          135,
          136,
          137,
          138,
          139,
          140,
          141,
          142,
          143,
          144,
          145,
          146,
          147,
          148,
          149,
          150,
          151,
          152,
          153,
          154,
          155,
          156,
          157,
          158,
          159,
          160,
          161,
          162,
          163,
          164,
          165,
          166,
          167,
          168,
          169,
          170,
          171,
          172,
          173,
          174,
          175,
          176,
          177,
          178,
          179,
          180,
          181,
          182,
          183,
          184,
          185,
          186,
          187,
          188,
          189,
          190,
          191,
          192,
          193,
          194,
          195,
          196,
          197,
          198,
          199,
          200,
          201,
          202,
          203,
          204,
          205,
          206,
          207,
          208,
          209,
          210,
          211,
          212,
          213,
          214,
          215,
          216,
          217,
          218,
          219,
          220,
          221,
          222,
          223,
          224,
          225,
          226,
          227,
          228,
          229,
          230,
          231,
          232,
          233,
          234,
          235,
          236,
          237,
          238,
          239,
          240,
          241,
          242,
          243,
          244,
          245,
          246,
          247,
          248,
          249,
          250,
          251
         ],
         "xaxis": "x",
         "y": [
          9294.32,
          9423.68,
          9435.44,
          9439.36,
          9590.28,
          9613.8,
          9531.48,
          9543.24,
          9653,
          9562.84,
          9715.72,
          9745.12,
          9629.48,
          9672.6,
          9711.8,
          9819.6,
          9873.5,
          9725.52,
          9809.8,
          9766.68,
          9849,
          9917.6,
          9814.7,
          9804.9,
          9711.8,
          9527.56,
          9509.92,
          9604,
          9653,
          9723.56,
          9721.6,
          9784.32,
          9937.2,
          9883.3,
          9888.2,
          9966.6,
          9956.8,
          9937.2,
          9956.8,
          9956.8,
          10005.8,
          10000.9,
          10000.9,
          10000.9,
          10040.1,
          10005.8,
          9996,
          9996,
          10118.5,
          10059.7,
          9956.8,
          10015.6,
          10172.4,
          10133.2,
          10250.8,
          10162.6,
          10152.8,
          10211.6,
          10236.1,
          10245.9,
          10304.7,
          10324.3,
          10221.4,
          10172.4,
          10275.3,
          10074.4,
          10231.2,
          10363.5,
          10280.2,
          10265.5,
          10383.1,
          10397.8,
          10490.9,
          10388,
          10510.5,
          10525.2,
          10829,
          10809.4,
          10780,
          10829,
          10794.7,
          10878,
          10878,
          10784.9,
          10784.9,
          10490.9,
          10383.1,
          10324.3,
          10049.9,
          9449.16,
          9441.32,
          9496.2,
          9609.88,
          9409.96,
          8925.84,
          8282.96,
          7996.8,
          7816.48,
          6632.64,
          6566,
          5785.92,
          5703.6,
          5082.28,
          5390,
          5915.28,
          5374.32,
          5917.24,
          6513.08,
          7130.48,
          6822.76,
          6468,
          6321,
          6032.88,
          6152.44,
          6091.68,
          6664,
          6965.84,
          6997.2,
          7218.68,
          7218.68,
          7218.68,
          7193.2,
          6769.84,
          6873.72,
          7228.48,
          7177.52,
          6869.8,
          7071.68,
          6999.16,
          6877.64,
          7310.8,
          7232.4,
          7438.2,
          7320.6,
          7320.6,
          7052.08,
          7257.88,
          7173.6,
          7181.44,
          7608.72,
          7377.44,
          7252,
          7105,
          7052.08,
          7081.48,
          7716.52,
          7484.0856,
          7647.4327,
          7633.4884,
          7579.7034,
          7936.2781,
          8127.5137,
          8294.8449,
          8217.1554,
          8167.3545,
          8251.0201,
          8460.184,
          8764.9658,
          8739.0693,
          8709.1887,
          8707.1967,
          8440.2637,
          8326.7175,
          7968.1507,
          8053.8083,
          8101.6172,
          8324.7255,
          8368.5503,
          8350.622,
          8175.3226,
          8127.5137,
          8173.3306,
          7918.3498,
          8081.6969,
          8025.9198,
          8139.466,
          8107.5934,
          7990.0631,
          8284.8847,
          8191.2589,
          8253.0121,
          8107.5934,
          7870.5409,
          7770.939,
          7904.4055,
          8004.0074,
          7880.5011,
          8053.8083,
          8121.5376,
          7962.1746,
          8011.9755,
          7968.1507,
          7968.1507,
          7906.3976,
          7749.0266,
          7659.3849,
          7687.2734,
          7778.9071,
          7549.8228,
          7370.5394,
          7543.8467,
          7721.138,
          7798.8275,
          7772.931,
          7747.0345,
          7902.4135,
          8183.2908,
          8119.5456,
          8005.9994,
          7890.4613,
          7842.6523,
          7768.947,
          7856.5966,
          7729.1062,
          7772.931,
          8095.6411,
          8101.6172,
          8207.1952,
          7948.2303,
          7948.2303,
          7691.2575,
          7591.6556,
          7764.9629,
          7860.5807,
          7798.8275,
          8089.665,
          7902.4135,
          7988.0711,
          7794.8434,
          7647.4327,
          7727.1142,
          7637.4725,
          7601.6158,
          7515.9582,
          7470.1413,
          7121.5347,
          7029.901,
          7002.0124,
          6906.3946,
          6864.5618,
          7087.6701,
          7071.7338,
          6954.2035,
          6840.6574,
          6996.0363,
          7183.2879,
          7342.6509,
          7350.619,
          7366.5553,
          7233.0888,
          7290.8579,
          7063.7656
         ],
         "yaxis": "y"
        },
        {
         "mode": "lines",
         "name": "Hurst Coefficient",
         "type": "scatter",
         "x": [
          0,
          1,
          2,
          3,
          4,
          5,
          6,
          7,
          8,
          9,
          10,
          11,
          12,
          13,
          14,
          15,
          16,
          17,
          18,
          19,
          20,
          21,
          22,
          23,
          24,
          25,
          26,
          27,
          28,
          29,
          30,
          31,
          32,
          33,
          34,
          35,
          36,
          37,
          38,
          39,
          40,
          41,
          42,
          43,
          44,
          45,
          46,
          47,
          48,
          49,
          50,
          51,
          52,
          53,
          54,
          55,
          56,
          57,
          58,
          59,
          60,
          61,
          62,
          63,
          64,
          65,
          66,
          67,
          68,
          69,
          70,
          71,
          72,
          73,
          74,
          75,
          76,
          77,
          78,
          79,
          80,
          81,
          82,
          83,
          84,
          85,
          86,
          87,
          88,
          89,
          90,
          91,
          92,
          93,
          94,
          95,
          96,
          97,
          98,
          99,
          100,
          101,
          102,
          103,
          104,
          105,
          106,
          107,
          108,
          109,
          110,
          111,
          112,
          113,
          114,
          115,
          116,
          117,
          118,
          119,
          120,
          121,
          122,
          123,
          124,
          125,
          126,
          127,
          128,
          129,
          130,
          131,
          132,
          133,
          134,
          135,
          136,
          137,
          138,
          139,
          140,
          141,
          142,
          143,
          144,
          145,
          146,
          147,
          148,
          149,
          150,
          151,
          152,
          153,
          154,
          155,
          156,
          157,
          158,
          159,
          160,
          161,
          162,
          163,
          164,
          165,
          166,
          167,
          168,
          169,
          170,
          171,
          172,
          173,
          174,
          175,
          176,
          177,
          178,
          179,
          180,
          181,
          182,
          183,
          184,
          185,
          186,
          187,
          188,
          189,
          190,
          191,
          192,
          193,
          194,
          195,
          196,
          197,
          198,
          199,
          200,
          201,
          202,
          203,
          204,
          205,
          206,
          207,
          208,
          209,
          210,
          211,
          212,
          213,
          214,
          215,
          216,
          217,
          218,
          219,
          220,
          221,
          222,
          223,
          224,
          225,
          226,
          227,
          228,
          229,
          230,
          231,
          232,
          233,
          234,
          235,
          236,
          237,
          238,
          239,
          240,
          241,
          242,
          243,
          244,
          245,
          246,
          247,
          248,
          249,
          250,
          251
         ],
         "xaxis": "x",
         "y": [
          null,
          null,
          null,
          null,
          null,
          null,
          null,
          null,
          null,
          null,
          null,
          null,
          null,
          null,
          null,
          null,
          null,
          null,
          null,
          null,
          null,
          null,
          null,
          null,
          null,
          null,
          null,
          null,
          null,
          null,
          null,
          null,
          null,
          null,
          null,
          null,
          null,
          null,
          null,
          null,
          null,
          null,
          null,
          null,
          null,
          null,
          null,
          null,
          null,
          null,
          null,
          null,
          null,
          null,
          null,
          null,
          null,
          null,
          null,
          null,
          null,
          null,
          null,
          null,
          null,
          null,
          null,
          null,
          null,
          null,
          null,
          null,
          null,
          null,
          null,
          null,
          null,
          null,
          null,
          null,
          null,
          null,
          null,
          null,
          null,
          null,
          null,
          null,
          null,
          null,
          null,
          null,
          null,
          null,
          null,
          null,
          null,
          null,
          null,
          null,
          0.2535203243768602,
          0.25868477342747154,
          0.2742362173348636,
          0.27626524363595817,
          0.27041705519960035,
          0.2727324405319801,
          0.26890997776182496,
          0.260793325379466,
          0.25182045493523547,
          0.24487212551097215,
          0.24008562423442406,
          0.23661345141666873,
          0.23527072246913375,
          0.23374094431461362,
          0.23293657508168797,
          0.22905344511301784,
          0.22418216332047503,
          0.22003597953439064,
          0.21630301470710087,
          0.21295226186037658,
          0.2101438271557647,
          0.20783859493185086,
          0.20572031246941236,
          0.20392272264854022,
          0.20234444130569512,
          0.2005282800381809,
          0.19883882742239362,
          0.19700159009472104,
          0.195220838124789,
          0.1937089898158405,
          0.19146150099324805,
          0.18923864023263356,
          0.18696513452609434,
          0.18494240320558328,
          0.18301047739226464,
          0.18142557504612855,
          0.1797491485471623,
          0.17819245080585258,
          0.1767044081492783,
          0.17478648443546096,
          0.17317923498930168,
          0.17169267439415573,
          0.1704211136547201,
          0.16933802671628723,
          0.16834287410908866,
          0.16651126245595413,
          0.16496332669694577,
          0.16352421804598574,
          0.16228807698151018,
          0.16117411431983608,
          0.16019772168513038,
          0.15924589763175792,
          0.15880242589838295,
          0.15852558058766122,
          0.15836546765472204,
          0.15852754207238667,
          0.15926422735744084,
          0.16083289699903133,
          0.16252905639376097,
          0.16431870254372388,
          0.16625186537179604,
          0.16723157266727845,
          0.16779348372978314,
          0.1670875166539567,
          0.1670546217300538,
          0.16736858776727206,
          0.16836323912690246,
          0.1695992856029554,
          0.17097910108297526,
          0.1720572978483899,
          0.17317494490602547,
          0.17463306660564418,
          0.1756916393457726,
          0.17739021151579315,
          0.17920659545121678,
          0.18154454408302062,
          0.18411649644620295,
          0.1867098405753337,
          0.19049421446378098,
          0.1943817570069812,
          0.19896648130175618,
          0.2034726634725388,
          0.2072898860117618,
          0.21112709408842564,
          0.21640105890974168,
          0.22287066385102777,
          0.229317540168634,
          0.2375853322226974,
          0.24691113561036906,
          0.2556530175105747,
          0.26524394446751887,
          0.2750755752247366,
          0.28549846100760357,
          0.29598934010764855,
          0.3056613045474686,
          0.31477024424605177,
          0.32408056919382805,
          0.33374703470959294,
          0.34125615576223,
          0.3471191462294622,
          0.35312502537370805,
          0.35885340750810274,
          0.36372079194536766,
          0.3678222118376885,
          0.3714159050224997,
          0.3747538003744885,
          0.37793287351114735,
          0.38091287978398986,
          0.3836826444449824,
          0.3860682681854167,
          0.38817810177218476,
          0.3899473302135816,
          0.39170172481735216,
          0.3930157981424425,
          0.39423236849227616,
          0.3956198514928126,
          0.3969062938370587,
          0.3982350493526208,
          0.39934671039324005,
          0.4003742373896871,
          0.40086475605134997,
          0.40109810059315076,
          0.40173885949264576,
          0.40239081878835026,
          0.4029876060835953,
          0.40368935773759107,
          0.40428327131669245,
          0.4048847522948308,
          0.4052568260890316,
          0.4052954027278547,
          0.40551070065417383,
          0.40559955448090435,
          0.40564278401517,
          0.4055670880844587,
          0.40543513339228865,
          0.4045799420332173,
          0.40357427121010087,
          0.40273775766904185,
          0.4018694325432668,
          0.4010720198462263,
          0.4005847290960356,
          0.4000863006489771,
          0.3995729663042715,
          0.39897311119902173,
          0.3985087873476794,
          0.39793641993269957,
          0.397199703263507,
          0.3965561545705439,
          0.39597627018350035,
          0.39549667082427936,
          0.3950247757105353,
          0.39453853179534015
         ],
         "yaxis": "y2"
        }
       ],
       "layout": {
        "template": {
         "data": {
          "bar": [
           {
            "error_x": {
             "color": "#2a3f5f"
            },
            "error_y": {
             "color": "#2a3f5f"
            },
            "marker": {
             "line": {
              "color": "#E5ECF6",
              "width": 0.5
             },
             "pattern": {
              "fillmode": "overlay",
              "size": 10,
              "solidity": 0.2
             }
            },
            "type": "bar"
           }
          ],
          "barpolar": [
           {
            "marker": {
             "line": {
              "color": "#E5ECF6",
              "width": 0.5
             },
             "pattern": {
              "fillmode": "overlay",
              "size": 10,
              "solidity": 0.2
             }
            },
            "type": "barpolar"
           }
          ],
          "carpet": [
           {
            "aaxis": {
             "endlinecolor": "#2a3f5f",
             "gridcolor": "white",
             "linecolor": "white",
             "minorgridcolor": "white",
             "startlinecolor": "#2a3f5f"
            },
            "baxis": {
             "endlinecolor": "#2a3f5f",
             "gridcolor": "white",
             "linecolor": "white",
             "minorgridcolor": "white",
             "startlinecolor": "#2a3f5f"
            },
            "type": "carpet"
           }
          ],
          "choropleth": [
           {
            "colorbar": {
             "outlinewidth": 0,
             "ticks": ""
            },
            "type": "choropleth"
           }
          ],
          "contour": [
           {
            "colorbar": {
             "outlinewidth": 0,
             "ticks": ""
            },
            "colorscale": [
             [
              0,
              "#0d0887"
             ],
             [
              0.1111111111111111,
              "#46039f"
             ],
             [
              0.2222222222222222,
              "#7201a8"
             ],
             [
              0.3333333333333333,
              "#9c179e"
             ],
             [
              0.4444444444444444,
              "#bd3786"
             ],
             [
              0.5555555555555556,
              "#d8576b"
             ],
             [
              0.6666666666666666,
              "#ed7953"
             ],
             [
              0.7777777777777778,
              "#fb9f3a"
             ],
             [
              0.8888888888888888,
              "#fdca26"
             ],
             [
              1,
              "#f0f921"
             ]
            ],
            "type": "contour"
           }
          ],
          "contourcarpet": [
           {
            "colorbar": {
             "outlinewidth": 0,
             "ticks": ""
            },
            "type": "contourcarpet"
           }
          ],
          "heatmap": [
           {
            "colorbar": {
             "outlinewidth": 0,
             "ticks": ""
            },
            "colorscale": [
             [
              0,
              "#0d0887"
             ],
             [
              0.1111111111111111,
              "#46039f"
             ],
             [
              0.2222222222222222,
              "#7201a8"
             ],
             [
              0.3333333333333333,
              "#9c179e"
             ],
             [
              0.4444444444444444,
              "#bd3786"
             ],
             [
              0.5555555555555556,
              "#d8576b"
             ],
             [
              0.6666666666666666,
              "#ed7953"
             ],
             [
              0.7777777777777778,
              "#fb9f3a"
             ],
             [
              0.8888888888888888,
              "#fdca26"
             ],
             [
              1,
              "#f0f921"
             ]
            ],
            "type": "heatmap"
           }
          ],
          "heatmapgl": [
           {
            "colorbar": {
             "outlinewidth": 0,
             "ticks": ""
            },
            "colorscale": [
             [
              0,
              "#0d0887"
             ],
             [
              0.1111111111111111,
              "#46039f"
             ],
             [
              0.2222222222222222,
              "#7201a8"
             ],
             [
              0.3333333333333333,
              "#9c179e"
             ],
             [
              0.4444444444444444,
              "#bd3786"
             ],
             [
              0.5555555555555556,
              "#d8576b"
             ],
             [
              0.6666666666666666,
              "#ed7953"
             ],
             [
              0.7777777777777778,
              "#fb9f3a"
             ],
             [
              0.8888888888888888,
              "#fdca26"
             ],
             [
              1,
              "#f0f921"
             ]
            ],
            "type": "heatmapgl"
           }
          ],
          "histogram": [
           {
            "marker": {
             "pattern": {
              "fillmode": "overlay",
              "size": 10,
              "solidity": 0.2
             }
            },
            "type": "histogram"
           }
          ],
          "histogram2d": [
           {
            "colorbar": {
             "outlinewidth": 0,
             "ticks": ""
            },
            "colorscale": [
             [
              0,
              "#0d0887"
             ],
             [
              0.1111111111111111,
              "#46039f"
             ],
             [
              0.2222222222222222,
              "#7201a8"
             ],
             [
              0.3333333333333333,
              "#9c179e"
             ],
             [
              0.4444444444444444,
              "#bd3786"
             ],
             [
              0.5555555555555556,
              "#d8576b"
             ],
             [
              0.6666666666666666,
              "#ed7953"
             ],
             [
              0.7777777777777778,
              "#fb9f3a"
             ],
             [
              0.8888888888888888,
              "#fdca26"
             ],
             [
              1,
              "#f0f921"
             ]
            ],
            "type": "histogram2d"
           }
          ],
          "histogram2dcontour": [
           {
            "colorbar": {
             "outlinewidth": 0,
             "ticks": ""
            },
            "colorscale": [
             [
              0,
              "#0d0887"
             ],
             [
              0.1111111111111111,
              "#46039f"
             ],
             [
              0.2222222222222222,
              "#7201a8"
             ],
             [
              0.3333333333333333,
              "#9c179e"
             ],
             [
              0.4444444444444444,
              "#bd3786"
             ],
             [
              0.5555555555555556,
              "#d8576b"
             ],
             [
              0.6666666666666666,
              "#ed7953"
             ],
             [
              0.7777777777777778,
              "#fb9f3a"
             ],
             [
              0.8888888888888888,
              "#fdca26"
             ],
             [
              1,
              "#f0f921"
             ]
            ],
            "type": "histogram2dcontour"
           }
          ],
          "mesh3d": [
           {
            "colorbar": {
             "outlinewidth": 0,
             "ticks": ""
            },
            "type": "mesh3d"
           }
          ],
          "parcoords": [
           {
            "line": {
             "colorbar": {
              "outlinewidth": 0,
              "ticks": ""
             }
            },
            "type": "parcoords"
           }
          ],
          "pie": [
           {
            "automargin": true,
            "type": "pie"
           }
          ],
          "scatter": [
           {
            "fillpattern": {
             "fillmode": "overlay",
             "size": 10,
             "solidity": 0.2
            },
            "type": "scatter"
           }
          ],
          "scatter3d": [
           {
            "line": {
             "colorbar": {
              "outlinewidth": 0,
              "ticks": ""
             }
            },
            "marker": {
             "colorbar": {
              "outlinewidth": 0,
              "ticks": ""
             }
            },
            "type": "scatter3d"
           }
          ],
          "scattercarpet": [
           {
            "marker": {
             "colorbar": {
              "outlinewidth": 0,
              "ticks": ""
             }
            },
            "type": "scattercarpet"
           }
          ],
          "scattergeo": [
           {
            "marker": {
             "colorbar": {
              "outlinewidth": 0,
              "ticks": ""
             }
            },
            "type": "scattergeo"
           }
          ],
          "scattergl": [
           {
            "marker": {
             "colorbar": {
              "outlinewidth": 0,
              "ticks": ""
             }
            },
            "type": "scattergl"
           }
          ],
          "scattermapbox": [
           {
            "marker": {
             "colorbar": {
              "outlinewidth": 0,
              "ticks": ""
             }
            },
            "type": "scattermapbox"
           }
          ],
          "scatterpolar": [
           {
            "marker": {
             "colorbar": {
              "outlinewidth": 0,
              "ticks": ""
             }
            },
            "type": "scatterpolar"
           }
          ],
          "scatterpolargl": [
           {
            "marker": {
             "colorbar": {
              "outlinewidth": 0,
              "ticks": ""
             }
            },
            "type": "scatterpolargl"
           }
          ],
          "scatterternary": [
           {
            "marker": {
             "colorbar": {
              "outlinewidth": 0,
              "ticks": ""
             }
            },
            "type": "scatterternary"
           }
          ],
          "surface": [
           {
            "colorbar": {
             "outlinewidth": 0,
             "ticks": ""
            },
            "colorscale": [
             [
              0,
              "#0d0887"
             ],
             [
              0.1111111111111111,
              "#46039f"
             ],
             [
              0.2222222222222222,
              "#7201a8"
             ],
             [
              0.3333333333333333,
              "#9c179e"
             ],
             [
              0.4444444444444444,
              "#bd3786"
             ],
             [
              0.5555555555555556,
              "#d8576b"
             ],
             [
              0.6666666666666666,
              "#ed7953"
             ],
             [
              0.7777777777777778,
              "#fb9f3a"
             ],
             [
              0.8888888888888888,
              "#fdca26"
             ],
             [
              1,
              "#f0f921"
             ]
            ],
            "type": "surface"
           }
          ],
          "table": [
           {
            "cells": {
             "fill": {
              "color": "#EBF0F8"
             },
             "line": {
              "color": "white"
             }
            },
            "header": {
             "fill": {
              "color": "#C8D4E3"
             },
             "line": {
              "color": "white"
             }
            },
            "type": "table"
           }
          ]
         },
         "layout": {
          "annotationdefaults": {
           "arrowcolor": "#2a3f5f",
           "arrowhead": 0,
           "arrowwidth": 1
          },
          "autotypenumbers": "strict",
          "coloraxis": {
           "colorbar": {
            "outlinewidth": 0,
            "ticks": ""
           }
          },
          "colorscale": {
           "diverging": [
            [
             0,
             "#8e0152"
            ],
            [
             0.1,
             "#c51b7d"
            ],
            [
             0.2,
             "#de77ae"
            ],
            [
             0.3,
             "#f1b6da"
            ],
            [
             0.4,
             "#fde0ef"
            ],
            [
             0.5,
             "#f7f7f7"
            ],
            [
             0.6,
             "#e6f5d0"
            ],
            [
             0.7,
             "#b8e186"
            ],
            [
             0.8,
             "#7fbc41"
            ],
            [
             0.9,
             "#4d9221"
            ],
            [
             1,
             "#276419"
            ]
           ],
           "sequential": [
            [
             0,
             "#0d0887"
            ],
            [
             0.1111111111111111,
             "#46039f"
            ],
            [
             0.2222222222222222,
             "#7201a8"
            ],
            [
             0.3333333333333333,
             "#9c179e"
            ],
            [
             0.4444444444444444,
             "#bd3786"
            ],
            [
             0.5555555555555556,
             "#d8576b"
            ],
            [
             0.6666666666666666,
             "#ed7953"
            ],
            [
             0.7777777777777778,
             "#fb9f3a"
            ],
            [
             0.8888888888888888,
             "#fdca26"
            ],
            [
             1,
             "#f0f921"
            ]
           ],
           "sequentialminus": [
            [
             0,
             "#0d0887"
            ],
            [
             0.1111111111111111,
             "#46039f"
            ],
            [
             0.2222222222222222,
             "#7201a8"
            ],
            [
             0.3333333333333333,
             "#9c179e"
            ],
            [
             0.4444444444444444,
             "#bd3786"
            ],
            [
             0.5555555555555556,
             "#d8576b"
            ],
            [
             0.6666666666666666,
             "#ed7953"
            ],
            [
             0.7777777777777778,
             "#fb9f3a"
            ],
            [
             0.8888888888888888,
             "#fdca26"
            ],
            [
             1,
             "#f0f921"
            ]
           ]
          },
          "colorway": [
           "#636efa",
           "#EF553B",
           "#00cc96",
           "#ab63fa",
           "#FFA15A",
           "#19d3f3",
           "#FF6692",
           "#B6E880",
           "#FF97FF",
           "#FECB52"
          ],
          "font": {
           "color": "#2a3f5f"
          },
          "geo": {
           "bgcolor": "white",
           "lakecolor": "white",
           "landcolor": "#E5ECF6",
           "showlakes": true,
           "showland": true,
           "subunitcolor": "white"
          },
          "hoverlabel": {
           "align": "left"
          },
          "hovermode": "closest",
          "mapbox": {
           "style": "light"
          },
          "paper_bgcolor": "white",
          "plot_bgcolor": "#E5ECF6",
          "polar": {
           "angularaxis": {
            "gridcolor": "white",
            "linecolor": "white",
            "ticks": ""
           },
           "bgcolor": "#E5ECF6",
           "radialaxis": {
            "gridcolor": "white",
            "linecolor": "white",
            "ticks": ""
           }
          },
          "scene": {
           "xaxis": {
            "backgroundcolor": "#E5ECF6",
            "gridcolor": "white",
            "gridwidth": 2,
            "linecolor": "white",
            "showbackground": true,
            "ticks": "",
            "zerolinecolor": "white"
           },
           "yaxis": {
            "backgroundcolor": "#E5ECF6",
            "gridcolor": "white",
            "gridwidth": 2,
            "linecolor": "white",
            "showbackground": true,
            "ticks": "",
            "zerolinecolor": "white"
           },
           "zaxis": {
            "backgroundcolor": "#E5ECF6",
            "gridcolor": "white",
            "gridwidth": 2,
            "linecolor": "white",
            "showbackground": true,
            "ticks": "",
            "zerolinecolor": "white"
           }
          },
          "shapedefaults": {
           "line": {
            "color": "#2a3f5f"
           }
          },
          "ternary": {
           "aaxis": {
            "gridcolor": "white",
            "linecolor": "white",
            "ticks": ""
           },
           "baxis": {
            "gridcolor": "white",
            "linecolor": "white",
            "ticks": ""
           },
           "bgcolor": "#E5ECF6",
           "caxis": {
            "gridcolor": "white",
            "linecolor": "white",
            "ticks": ""
           }
          },
          "title": {
           "x": 0.05
          },
          "xaxis": {
           "automargin": true,
           "gridcolor": "white",
           "linecolor": "white",
           "ticks": "",
           "title": {
            "standoff": 15
           },
           "zerolinecolor": "white",
           "zerolinewidth": 2
          },
          "yaxis": {
           "automargin": true,
           "gridcolor": "white",
           "linecolor": "white",
           "ticks": "",
           "title": {
            "standoff": 15
           },
           "zerolinecolor": "white",
           "zerolinewidth": 2
          }
         }
        },
        "title": {
         "text": "FGR FP Equity and Hurst Coefficient over Time"
        },
        "xaxis": {
         "anchor": "y",
         "domain": [
          0,
          0.94
         ],
         "title": {
          "text": "Time"
         }
        },
        "yaxis": {
         "anchor": "x",
         "domain": [
          0,
          1
         ],
         "title": {
          "text": "FGR FP Equity"
         }
        },
        "yaxis2": {
         "anchor": "x",
         "overlaying": "y",
         "side": "right",
         "title": {
          "text": "Hurst Coefficient"
         }
        }
       }
      }
     },
     "metadata": {},
     "output_type": "display_data"
    },
    {
     "name": "stdout",
     "output_type": "stream",
     "text": [
      "[None]\n"
     ]
    }
   ],
   "source": [
    "# Créer un nouveau dataframe pour stocker les résultats\n",
    "result_list = []\n",
    "\n",
    "# Appel de la fonction avec le nom de la colonne et stocke le résultat dans la liste\n",
    "result_list.append(affichage_coef_hurst_reg('FGR FP Equity', market_cap))\n",
    "\n",
    "# Affiche la liste des résultats\n",
    "print(result_list)\n"
   ]
  }
 ],
 "metadata": {
  "kernelspec": {
   "display_name": "base",
   "language": "python",
   "name": "python3"
  },
  "language_info": {
   "codemirror_mode": {
    "name": "ipython",
    "version": 3
   },
   "file_extension": ".py",
   "mimetype": "text/x-python",
   "name": "python",
   "nbconvert_exporter": "python",
   "pygments_lexer": "ipython3",
   "version": "3.11.4"
  }
 },
 "nbformat": 4,
 "nbformat_minor": 2
}
