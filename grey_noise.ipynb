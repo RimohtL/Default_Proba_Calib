{
 "cells": [
  {
   "cell_type": "code",
   "execution_count": 44,
   "metadata": {},
   "outputs": [],
   "source": [
    "import numpy as np\n",
    "from scipy import optimize\n",
    "import pandas as pd\n",
    "from scipy.stats import norm\n",
    "from sklearn.linear_model import LinearRegression\n",
    "import matplotlib.pyplot as plt\n",
    "from scipy.special import gamma\n",
    "from math import pi\n",
    "from scipy.special import wright_bessel\n",
    "from scipy.integrate import quad"
   ]
  },
  {
   "cell_type": "code",
   "execution_count": 2,
   "metadata": {},
   "outputs": [],
   "source": [
    "\"\"\" Data Importation \"\"\"\n",
    "\n",
    "#path = \"C:/Users/Amaury/Documents/CentraleSupelec/3A/Projet/\"\n",
    "file = \"Data issuers.xlsx\"\n",
    "market_cap = pd.read_excel(file, sheet_name=\"Mod Market Cap\")\n",
    "market_cap = market_cap.set_index(\"Dates\").loc['2019-10-28':'2020-10-13']\n",
    "debt = pd.read_excel(file, sheet_name=\"Gross Debt\", nrows=1)"
   ]
  },
  {
   "cell_type": "code",
   "execution_count": 11,
   "metadata": {},
   "outputs": [],
   "source": [
    "def grey_call_price(gama,S0,K,r,sigma,tau,Ns,Nmu):\n",
    "\n",
    "    mu1=-sigma**2/2\n",
    "    \n",
    "    emu=0\n",
    "    for n in range(Nmu):\n",
    "        emu+= (-1)**n * gamma(1+2*n)*mu1**n / ( np.math.factorial(n)* gamma(1+2*gama*n)   )\n",
    "    mu=-np.log(emu)\n",
    "\n",
    "    x=np.log(S0/K) + r*tau\n",
    "\n",
    "\n",
    "    c=-mu*tau**gama\n",
    "    s=0\n",
    "\n",
    "    for n in range (Ns):\n",
    "        for m in range (1,Ns):\n",
    "            s+= ((-1)**n)   *((x-mu*tau)**n) * ((c)**((m-n)/2)) /  (np.math.factorial(n)* gamma(1-gama*((n-m)/2)))\n",
    "\n",
    "    return(s*K*np.exp(-r*tau)/2 )"
   ]
  },
  {
   "cell_type": "code",
   "execution_count": 18,
   "metadata": {},
   "outputs": [
    {
     "name": "stderr",
     "output_type": "stream",
     "text": [
      "C:\\Users\\amaur\\AppData\\Local\\Temp\\ipykernel_27860\\2646785917.py:8: RuntimeWarning: divide by zero encountered in log\n",
      "  mu=-np.log(emu)\n"
     ]
    },
    {
     "data": {
      "text/plain": [
       "[<matplotlib.lines.Line2D at 0x2b6b6ea4b50>]"
      ]
     },
     "execution_count": 18,
     "metadata": {},
     "output_type": "execute_result"
    },
    {
     "data": {
      "image/png": "[encoded data removed]",
      "text/plain": [
       "<Figure size 640x480 with 1 Axes>"
      ]
     },
     "metadata": {},
     "output_type": "display_data"
    }
   ],
   "source": [
    "gama=0.9\n",
    "S0=150\n",
    "K=90\n",
    "r=0.05\n",
    "sigma=0.25\n",
    "tau = 1\n",
    "\n",
    "C=[ grey_call_price(gama,S0,K,r,sigma,tau,Ns=k,Nmu=k) for k in range (30)]\n",
    "\n",
    "plt.plot(C)"
   ]
  },
  {
   "cell_type": "code",
   "execution_count": 22,
   "metadata": {},
   "outputs": [
    {
     "data": {
      "text/plain": [
       "nan"
      ]
     },
     "execution_count": 22,
     "metadata": {},
     "output_type": "execute_result"
    }
   ],
   "source": [
    "wright_bessel(-0.1\n",
    "              ,0.9, -\n",
    "              2)"
   ]
  },
  {
   "cell_type": "code",
   "execution_count": 31,
   "metadata": {},
   "outputs": [],
   "source": [
    "from mpmath import *\n",
    "\n"
   ]
  },
  {
   "cell_type": "code",
   "execution_count": 35,
   "metadata": {},
   "outputs": [
    {
     "data": {
      "text/plain": [
       "0.10718999293584146"
      ]
     },
     "execution_count": 35,
     "metadata": {},
     "output_type": "execute_result"
    }
   ],
   "source": [
    "nu=0.75\n",
    "fp = lambda p: exp(-p**nu)\n",
    "\n",
    "g=invertlaplace(fp,2)\n",
    "float(g)"
   ]
  },
  {
   "cell_type": "code",
   "execution_count": 39,
   "metadata": {},
   "outputs": [],
   "source": [
    "def m_wright(nu,x):\n",
    "\n",
    "    \"\"\"\n",
    "    x>0\n",
    "    \"\"\"\n",
    "\n",
    "    fp = lambda p: exp(-p**nu)\n",
    "    r= (1/x)**(1/nu)\n",
    "\n",
    "    Mnu=float(invertlaplace(fp,r))*(r**(nu+1))/nu\n",
    "    return(Mnu)\n",
    "\n"
   ]
  },
  {
   "cell_type": "code",
   "execution_count": 46,
   "metadata": {},
   "outputs": [],
   "source": [
    "def Xdensity(x,beta,omega,t):\n",
    "    d=np.sqrt(omega)*t**(beta/2)\n",
    "    return(\n",
    "\n",
    "        (0.5/d)*m_wright(beta/2,abs(x)/d)\n",
    "    )"
   ]
  },
  {
   "cell_type": "markdown",
   "metadata": {},
   "source": [
    "Verification: Xdensity est bien d'integrale 1 "
   ]
  },
  {
   "cell_type": "code",
   "execution_count": 50,
   "metadata": {},
   "outputs": [
    {
     "data": {
      "text/plain": [
       "(1.0, 9.232500802714278e-10)"
      ]
     },
     "execution_count": 50,
     "metadata": {},
     "output_type": "execute_result"
    }
   ],
   "source": [
    "#Verification: Xdensity est bien d'integrale 1 \n",
    "beta=1.3\n",
    "omega=10\n",
    "t=2\n",
    "\n",
    "quad(Xdensity,-np.inf,np.inf,args=(beta,omega,t))"
   ]
  },
  {
   "cell_type": "code",
   "execution_count": null,
   "metadata": {},
   "outputs": [],
   "source": []
  }
 ],
 "metadata": {
  "kernelspec": {
   "display_name": "base",
   "language": "python",
   "name": "python3"
  },
  "language_info": {
   "codemirror_mode": {
    "name": "ipython",
    "version": 3
   },
   "file_extension": ".py",
   "mimetype": "text/x-python",
   "name": "python",
   "nbconvert_exporter": "python",
   "pygments_lexer": "ipython3",
   "version": "3.11.5"
  }
 },
 "nbformat": 4,
 "nbformat_minor": 2
}
